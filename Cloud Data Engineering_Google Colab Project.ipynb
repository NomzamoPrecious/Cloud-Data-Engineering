{
  "nbformat": 4,
  "nbformat_minor": 0,
  "metadata": {
    "colab": {
      "provenance": []
    },
    "kernelspec": {
      "name": "python3",
      "display_name": "Python 3"
    },
    "language_info": {
      "name": "python"
    }
  },
  "cells": [
    {
      "cell_type": "code",
      "execution_count": null,
      "metadata": {
        "id": "3cop7KzdJOB-"
      },
      "outputs": [],
      "source": [
        "import pandas as pd\n",
        "import numpy as np\n",
        "import matplotlib.pyplot as plt\n",
        "import seaborn as sns\n"
      ]
    },
    {
      "cell_type": "code",
      "source": [
        "from google.colab import drive\n",
        "drive.mount('/content/drive')"
      ],
      "metadata": {
        "colab": {
          "base_uri": "https://localhost:8080/"
        },
        "id": "B_8vqoWEKz3w",
        "outputId": "ae1b2557-60aa-4e52-e7b7-9bf73eb89b80"
      },
      "execution_count": null,
      "outputs": [
        {
          "output_type": "stream",
          "name": "stdout",
          "text": [
            "Drive already mounted at /content/drive; to attempt to forcibly remount, call drive.mount(\"/content/drive\", force_remount=True).\n"
          ]
        }
      ]
    },
    {
      "cell_type": "code",
      "source": [
        "# Load CSV from Google Drive\n",
        "file_path = '/content/drive/My Drive/customers-100000.csv'\n",
        "df = pd.read_csv(file_path)\n",
        "\n",
        "# Preview the data\n",
        "df.head()"
      ],
      "metadata": {
        "colab": {
          "base_uri": "https://localhost:8080/",
          "height": 345
        },
        "id": "IMzXSc-kNLMI",
        "outputId": "ea79a00c-b601-4e17-ccff-fb8d290e3f0f"
      },
      "execution_count": null,
      "outputs": [
        {
          "output_type": "execute_result",
          "data": {
            "text/plain": [
              "   Index      Customer Id First Name   Last Name                    Company  \\\n",
              "0      1  ffeCAb7AbcB0f07      Jared      Jarvis           Sanchez-Fletcher   \n",
              "1      2  b687FfC4F1600eC      Marie      Malone                  Mckay PLC   \n",
              "2      3  9FF9ACbc69dcF9c     Elijah     Barrera             Marks and Sons   \n",
              "3      4  b49edDB1295FF6E     Sheryl  Montgomery  Kirby, Vaughn and Sanders   \n",
              "4      5  3dcCbFEB17CCf2E     Jeremy     Houston             Lester-Manning   \n",
              "\n",
              "             City                                       Country  \\\n",
              "0   Hatfieldshire                                       Eritrea   \n",
              "1  Robertsonburgh                                      Botswana   \n",
              "2         Kimbury                                      Barbados   \n",
              "3     Briannaview  Antarctica (the territory South of 60 deg S)   \n",
              "4   South Brianna                                    Micronesia   \n",
              "\n",
              "                Phone 1               Phone 2  \\\n",
              "0    274.188.8773x41185  001-215-760-4642x969   \n",
              "1          283-236-9529   (189)129-8356x63741   \n",
              "2            8252703789     459-916-7241x0909   \n",
              "3          425.475.3586         (392)819-9063   \n",
              "4  +1-223-666-5313x4530      252-488-3850x692   \n",
              "\n",
              "                              Email Subscription Date  \\\n",
              "0     gabriellehartman@benjamin.com        2021-11-11   \n",
              "1              kstafford@sexton.com        2021-05-14   \n",
              "2           jeanettecross@brown.com        2021-03-17   \n",
              "3          thomassierra@barrett.com        2020-09-23   \n",
              "4  rubenwatkins@jacobs-wallace.info        2020-09-18   \n",
              "\n",
              "                         Website  \n",
              "0     https://www.mccarthy.info/  \n",
              "1       http://www.reynolds.com/  \n",
              "2              https://neal.com/  \n",
              "3  https://www.powell-bryan.com/  \n",
              "4      https://www.carrillo.com/  "
            ],
            "text/html": [
              "\n",
              "  <div id=\"df-c0b1f732-7069-4763-beb9-059b000ed264\" class=\"colab-df-container\">\n",
              "    <div>\n",
              "<style scoped>\n",
              "    .dataframe tbody tr th:only-of-type {\n",
              "        vertical-align: middle;\n",
              "    }\n",
              "\n",
              "    .dataframe tbody tr th {\n",
              "        vertical-align: top;\n",
              "    }\n",
              "\n",
              "    .dataframe thead th {\n",
              "        text-align: right;\n",
              "    }\n",
              "</style>\n",
              "<table border=\"1\" class=\"dataframe\">\n",
              "  <thead>\n",
              "    <tr style=\"text-align: right;\">\n",
              "      <th></th>\n",
              "      <th>Index</th>\n",
              "      <th>Customer Id</th>\n",
              "      <th>First Name</th>\n",
              "      <th>Last Name</th>\n",
              "      <th>Company</th>\n",
              "      <th>City</th>\n",
              "      <th>Country</th>\n",
              "      <th>Phone 1</th>\n",
              "      <th>Phone 2</th>\n",
              "      <th>Email</th>\n",
              "      <th>Subscription Date</th>\n",
              "      <th>Website</th>\n",
              "    </tr>\n",
              "  </thead>\n",
              "  <tbody>\n",
              "    <tr>\n",
              "      <th>0</th>\n",
              "      <td>1</td>\n",
              "      <td>ffeCAb7AbcB0f07</td>\n",
              "      <td>Jared</td>\n",
              "      <td>Jarvis</td>\n",
              "      <td>Sanchez-Fletcher</td>\n",
              "      <td>Hatfieldshire</td>\n",
              "      <td>Eritrea</td>\n",
              "      <td>274.188.8773x41185</td>\n",
              "      <td>001-215-760-4642x969</td>\n",
              "      <td>gabriellehartman@benjamin.com</td>\n",
              "      <td>2021-11-11</td>\n",
              "      <td>https://www.mccarthy.info/</td>\n",
              "    </tr>\n",
              "    <tr>\n",
              "      <th>1</th>\n",
              "      <td>2</td>\n",
              "      <td>b687FfC4F1600eC</td>\n",
              "      <td>Marie</td>\n",
              "      <td>Malone</td>\n",
              "      <td>Mckay PLC</td>\n",
              "      <td>Robertsonburgh</td>\n",
              "      <td>Botswana</td>\n",
              "      <td>283-236-9529</td>\n",
              "      <td>(189)129-8356x63741</td>\n",
              "      <td>kstafford@sexton.com</td>\n",
              "      <td>2021-05-14</td>\n",
              "      <td>http://www.reynolds.com/</td>\n",
              "    </tr>\n",
              "    <tr>\n",
              "      <th>2</th>\n",
              "      <td>3</td>\n",
              "      <td>9FF9ACbc69dcF9c</td>\n",
              "      <td>Elijah</td>\n",
              "      <td>Barrera</td>\n",
              "      <td>Marks and Sons</td>\n",
              "      <td>Kimbury</td>\n",
              "      <td>Barbados</td>\n",
              "      <td>8252703789</td>\n",
              "      <td>459-916-7241x0909</td>\n",
              "      <td>jeanettecross@brown.com</td>\n",
              "      <td>2021-03-17</td>\n",
              "      <td>https://neal.com/</td>\n",
              "    </tr>\n",
              "    <tr>\n",
              "      <th>3</th>\n",
              "      <td>4</td>\n",
              "      <td>b49edDB1295FF6E</td>\n",
              "      <td>Sheryl</td>\n",
              "      <td>Montgomery</td>\n",
              "      <td>Kirby, Vaughn and Sanders</td>\n",
              "      <td>Briannaview</td>\n",
              "      <td>Antarctica (the territory South of 60 deg S)</td>\n",
              "      <td>425.475.3586</td>\n",
              "      <td>(392)819-9063</td>\n",
              "      <td>thomassierra@barrett.com</td>\n",
              "      <td>2020-09-23</td>\n",
              "      <td>https://www.powell-bryan.com/</td>\n",
              "    </tr>\n",
              "    <tr>\n",
              "      <th>4</th>\n",
              "      <td>5</td>\n",
              "      <td>3dcCbFEB17CCf2E</td>\n",
              "      <td>Jeremy</td>\n",
              "      <td>Houston</td>\n",
              "      <td>Lester-Manning</td>\n",
              "      <td>South Brianna</td>\n",
              "      <td>Micronesia</td>\n",
              "      <td>+1-223-666-5313x4530</td>\n",
              "      <td>252-488-3850x692</td>\n",
              "      <td>rubenwatkins@jacobs-wallace.info</td>\n",
              "      <td>2020-09-18</td>\n",
              "      <td>https://www.carrillo.com/</td>\n",
              "    </tr>\n",
              "  </tbody>\n",
              "</table>\n",
              "</div>\n",
              "    <div class=\"colab-df-buttons\">\n",
              "\n",
              "  <div class=\"colab-df-container\">\n",
              "    <button class=\"colab-df-convert\" onclick=\"convertToInteractive('df-c0b1f732-7069-4763-beb9-059b000ed264')\"\n",
              "            title=\"Convert this dataframe to an interactive table.\"\n",
              "            style=\"display:none;\">\n",
              "\n",
              "  <svg xmlns=\"http://www.w3.org/2000/svg\" height=\"24px\" viewBox=\"0 -960 960 960\">\n",
              "    <path d=\"M120-120v-720h720v720H120Zm60-500h600v-160H180v160Zm220 220h160v-160H400v160Zm0 220h160v-160H400v160ZM180-400h160v-160H180v160Zm440 0h160v-160H620v160ZM180-180h160v-160H180v160Zm440 0h160v-160H620v160Z\"/>\n",
              "  </svg>\n",
              "    </button>\n",
              "\n",
              "  <style>\n",
              "    .colab-df-container {\n",
              "      display:flex;\n",
              "      gap: 12px;\n",
              "    }\n",
              "\n",
              "    .colab-df-convert {\n",
              "      background-color: #E8F0FE;\n",
              "      border: none;\n",
              "      border-radius: 50%;\n",
              "      cursor: pointer;\n",
              "      display: none;\n",
              "      fill: #1967D2;\n",
              "      height: 32px;\n",
              "      padding: 0 0 0 0;\n",
              "      width: 32px;\n",
              "    }\n",
              "\n",
              "    .colab-df-convert:hover {\n",
              "      background-color: #E2EBFA;\n",
              "      box-shadow: 0px 1px 2px rgba(60, 64, 67, 0.3), 0px 1px 3px 1px rgba(60, 64, 67, 0.15);\n",
              "      fill: #174EA6;\n",
              "    }\n",
              "\n",
              "    .colab-df-buttons div {\n",
              "      margin-bottom: 4px;\n",
              "    }\n",
              "\n",
              "    [theme=dark] .colab-df-convert {\n",
              "      background-color: #3B4455;\n",
              "      fill: #D2E3FC;\n",
              "    }\n",
              "\n",
              "    [theme=dark] .colab-df-convert:hover {\n",
              "      background-color: #434B5C;\n",
              "      box-shadow: 0px 1px 3px 1px rgba(0, 0, 0, 0.15);\n",
              "      filter: drop-shadow(0px 1px 2px rgba(0, 0, 0, 0.3));\n",
              "      fill: #FFFFFF;\n",
              "    }\n",
              "  </style>\n",
              "\n",
              "    <script>\n",
              "      const buttonEl =\n",
              "        document.querySelector('#df-c0b1f732-7069-4763-beb9-059b000ed264 button.colab-df-convert');\n",
              "      buttonEl.style.display =\n",
              "        google.colab.kernel.accessAllowed ? 'block' : 'none';\n",
              "\n",
              "      async function convertToInteractive(key) {\n",
              "        const element = document.querySelector('#df-c0b1f732-7069-4763-beb9-059b000ed264');\n",
              "        const dataTable =\n",
              "          await google.colab.kernel.invokeFunction('convertToInteractive',\n",
              "                                                    [key], {});\n",
              "        if (!dataTable) return;\n",
              "\n",
              "        const docLinkHtml = 'Like what you see? Visit the ' +\n",
              "          '<a target=\"_blank\" href=https://colab.research.google.com/notebooks/data_table.ipynb>data table notebook</a>'\n",
              "          + ' to learn more about interactive tables.';\n",
              "        element.innerHTML = '';\n",
              "        dataTable['output_type'] = 'display_data';\n",
              "        await google.colab.output.renderOutput(dataTable, element);\n",
              "        const docLink = document.createElement('div');\n",
              "        docLink.innerHTML = docLinkHtml;\n",
              "        element.appendChild(docLink);\n",
              "      }\n",
              "    </script>\n",
              "  </div>\n",
              "\n",
              "\n",
              "<div id=\"df-b40efb6e-d44d-4c59-962d-b463ac3f5256\">\n",
              "  <button class=\"colab-df-quickchart\" onclick=\"quickchart('df-b40efb6e-d44d-4c59-962d-b463ac3f5256')\"\n",
              "            title=\"Suggest charts\"\n",
              "            style=\"display:none;\">\n",
              "\n",
              "<svg xmlns=\"http://www.w3.org/2000/svg\" height=\"24px\"viewBox=\"0 0 24 24\"\n",
              "     width=\"24px\">\n",
              "    <g>\n",
              "        <path d=\"M19 3H5c-1.1 0-2 .9-2 2v14c0 1.1.9 2 2 2h14c1.1 0 2-.9 2-2V5c0-1.1-.9-2-2-2zM9 17H7v-7h2v7zm4 0h-2V7h2v10zm4 0h-2v-4h2v4z\"/>\n",
              "    </g>\n",
              "</svg>\n",
              "  </button>\n",
              "\n",
              "<style>\n",
              "  .colab-df-quickchart {\n",
              "      --bg-color: #E8F0FE;\n",
              "      --fill-color: #1967D2;\n",
              "      --hover-bg-color: #E2EBFA;\n",
              "      --hover-fill-color: #174EA6;\n",
              "      --disabled-fill-color: #AAA;\n",
              "      --disabled-bg-color: #DDD;\n",
              "  }\n",
              "\n",
              "  [theme=dark] .colab-df-quickchart {\n",
              "      --bg-color: #3B4455;\n",
              "      --fill-color: #D2E3FC;\n",
              "      --hover-bg-color: #434B5C;\n",
              "      --hover-fill-color: #FFFFFF;\n",
              "      --disabled-bg-color: #3B4455;\n",
              "      --disabled-fill-color: #666;\n",
              "  }\n",
              "\n",
              "  .colab-df-quickchart {\n",
              "    background-color: var(--bg-color);\n",
              "    border: none;\n",
              "    border-radius: 50%;\n",
              "    cursor: pointer;\n",
              "    display: none;\n",
              "    fill: var(--fill-color);\n",
              "    height: 32px;\n",
              "    padding: 0;\n",
              "    width: 32px;\n",
              "  }\n",
              "\n",
              "  .colab-df-quickchart:hover {\n",
              "    background-color: var(--hover-bg-color);\n",
              "    box-shadow: 0 1px 2px rgba(60, 64, 67, 0.3), 0 1px 3px 1px rgba(60, 64, 67, 0.15);\n",
              "    fill: var(--button-hover-fill-color);\n",
              "  }\n",
              "\n",
              "  .colab-df-quickchart-complete:disabled,\n",
              "  .colab-df-quickchart-complete:disabled:hover {\n",
              "    background-color: var(--disabled-bg-color);\n",
              "    fill: var(--disabled-fill-color);\n",
              "    box-shadow: none;\n",
              "  }\n",
              "\n",
              "  .colab-df-spinner {\n",
              "    border: 2px solid var(--fill-color);\n",
              "    border-color: transparent;\n",
              "    border-bottom-color: var(--fill-color);\n",
              "    animation:\n",
              "      spin 1s steps(1) infinite;\n",
              "  }\n",
              "\n",
              "  @keyframes spin {\n",
              "    0% {\n",
              "      border-color: transparent;\n",
              "      border-bottom-color: var(--fill-color);\n",
              "      border-left-color: var(--fill-color);\n",
              "    }\n",
              "    20% {\n",
              "      border-color: transparent;\n",
              "      border-left-color: var(--fill-color);\n",
              "      border-top-color: var(--fill-color);\n",
              "    }\n",
              "    30% {\n",
              "      border-color: transparent;\n",
              "      border-left-color: var(--fill-color);\n",
              "      border-top-color: var(--fill-color);\n",
              "      border-right-color: var(--fill-color);\n",
              "    }\n",
              "    40% {\n",
              "      border-color: transparent;\n",
              "      border-right-color: var(--fill-color);\n",
              "      border-top-color: var(--fill-color);\n",
              "    }\n",
              "    60% {\n",
              "      border-color: transparent;\n",
              "      border-right-color: var(--fill-color);\n",
              "    }\n",
              "    80% {\n",
              "      border-color: transparent;\n",
              "      border-right-color: var(--fill-color);\n",
              "      border-bottom-color: var(--fill-color);\n",
              "    }\n",
              "    90% {\n",
              "      border-color: transparent;\n",
              "      border-bottom-color: var(--fill-color);\n",
              "    }\n",
              "  }\n",
              "</style>\n",
              "\n",
              "  <script>\n",
              "    async function quickchart(key) {\n",
              "      const quickchartButtonEl =\n",
              "        document.querySelector('#' + key + ' button');\n",
              "      quickchartButtonEl.disabled = true;  // To prevent multiple clicks.\n",
              "      quickchartButtonEl.classList.add('colab-df-spinner');\n",
              "      try {\n",
              "        const charts = await google.colab.kernel.invokeFunction(\n",
              "            'suggestCharts', [key], {});\n",
              "      } catch (error) {\n",
              "        console.error('Error during call to suggestCharts:', error);\n",
              "      }\n",
              "      quickchartButtonEl.classList.remove('colab-df-spinner');\n",
              "      quickchartButtonEl.classList.add('colab-df-quickchart-complete');\n",
              "    }\n",
              "    (() => {\n",
              "      let quickchartButtonEl =\n",
              "        document.querySelector('#df-b40efb6e-d44d-4c59-962d-b463ac3f5256 button');\n",
              "      quickchartButtonEl.style.display =\n",
              "        google.colab.kernel.accessAllowed ? 'block' : 'none';\n",
              "    })();\n",
              "  </script>\n",
              "</div>\n",
              "\n",
              "    </div>\n",
              "  </div>\n"
            ],
            "application/vnd.google.colaboratory.intrinsic+json": {
              "type": "dataframe",
              "variable_name": "df",
              "summary": "{\n  \"name\": \"df\",\n  \"rows\": 100000,\n  \"fields\": [\n    {\n      \"column\": \"Index\",\n      \"properties\": {\n        \"dtype\": \"number\",\n        \"std\": 28867,\n        \"min\": 1,\n        \"max\": 100000,\n        \"num_unique_values\": 100000,\n        \"samples\": [\n          75722,\n          80185,\n          19865\n        ],\n        \"semantic_type\": \"\",\n        \"description\": \"\"\n      }\n    },\n    {\n      \"column\": \"Customer Id\",\n      \"properties\": {\n        \"dtype\": \"string\",\n        \"num_unique_values\": 100000,\n        \"samples\": [\n          \"D65B7865d99f2Ae\",\n          \"c83d188D8d2b3f0\",\n          \"33b441d55D1f58C\"\n        ],\n        \"semantic_type\": \"\",\n        \"description\": \"\"\n      }\n    },\n    {\n      \"column\": \"First Name\",\n      \"properties\": {\n        \"dtype\": \"category\",\n        \"num_unique_values\": 690,\n        \"samples\": [\n          \"Daniel\",\n          \"Gabriel\",\n          \"Bethany\"\n        ],\n        \"semantic_type\": \"\",\n        \"description\": \"\"\n      }\n    },\n    {\n      \"column\": \"Last Name\",\n      \"properties\": {\n        \"dtype\": \"category\",\n        \"num_unique_values\": 1000,\n        \"samples\": [\n          \"Wells\",\n          \"Stephens\",\n          \"Aguirre\"\n        ],\n        \"semantic_type\": \"\",\n        \"description\": \"\"\n      }\n    },\n    {\n      \"column\": \"Company\",\n      \"properties\": {\n        \"dtype\": \"string\",\n        \"num_unique_values\": 71994,\n        \"samples\": [\n          \"Christian Group\",\n          \"Mclaughlin, Parsons and Dickson\",\n          \"Wolfe-Mcclure\"\n        ],\n        \"semantic_type\": \"\",\n        \"description\": \"\"\n      }\n    },\n    {\n      \"column\": \"City\",\n      \"properties\": {\n        \"dtype\": \"category\",\n        \"num_unique_values\": 49154,\n        \"samples\": [\n          \"Aimeetown\",\n          \"West Angiebury\",\n          \"East Franklinfurt\"\n        ],\n        \"semantic_type\": \"\",\n        \"description\": \"\"\n      }\n    },\n    {\n      \"column\": \"Country\",\n      \"properties\": {\n        \"dtype\": \"category\",\n        \"num_unique_values\": 243,\n        \"samples\": [\n          \"Saint Helena\",\n          \"United States of America\",\n          \"Zimbabwe\"\n        ],\n        \"semantic_type\": \"\",\n        \"description\": \"\"\n      }\n    },\n    {\n      \"column\": \"Phone 1\",\n      \"properties\": {\n        \"dtype\": \"string\",\n        \"num_unique_values\": 100000,\n        \"samples\": [\n          \"(494)872-3218x889\",\n          \"364-909-4472x1735\",\n          \"(832)389-8929x696\"\n        ],\n        \"semantic_type\": \"\",\n        \"description\": \"\"\n      }\n    },\n    {\n      \"column\": \"Phone 2\",\n      \"properties\": {\n        \"dtype\": \"string\",\n        \"num_unique_values\": 100000,\n        \"samples\": [\n          \"890-356-6294x31628\",\n          \"546.843.0082\",\n          \"3242250028\"\n        ],\n        \"semantic_type\": \"\",\n        \"description\": \"\"\n      }\n    },\n    {\n      \"column\": \"Email\",\n      \"properties\": {\n        \"dtype\": \"string\",\n        \"num_unique_values\": 99995,\n        \"samples\": [\n          \"ewilkinson@greene.com\",\n          \"ifuller@berry.com\",\n          \"abigaillozano@wheeler-waller.info\"\n        ],\n        \"semantic_type\": \"\",\n        \"description\": \"\"\n      }\n    },\n    {\n      \"column\": \"Subscription Date\",\n      \"properties\": {\n        \"dtype\": \"object\",\n        \"num_unique_values\": 880,\n        \"samples\": [\n          \"2020-01-18\",\n          \"2020-11-15\",\n          \"2022-03-03\"\n        ],\n        \"semantic_type\": \"\",\n        \"description\": \"\"\n      }\n    },\n    {\n      \"column\": \"Website\",\n      \"properties\": {\n        \"dtype\": \"string\",\n        \"num_unique_values\": 50471,\n        \"samples\": [\n          \"https://www.hess-mcdonald.com/\",\n          \"http://www.friedman-walker.info/\",\n          \"https://becker.net/\"\n        ],\n        \"semantic_type\": \"\",\n        \"description\": \"\"\n      }\n    }\n  ]\n}"
            }
          },
          "metadata": {},
          "execution_count": 40
        }
      ]
    },
    {
      "cell_type": "markdown",
      "source": [
        "***DATA CLEANING***"
      ],
      "metadata": {
        "id": "iKDv06nWRo_H"
      }
    },
    {
      "cell_type": "code",
      "source": [
        "# Drop duplicates\n",
        "df.drop_duplicates(inplace=True)\n",
        "\n",
        "# Remove duplicate rows\n",
        "df.drop_duplicates(inplace=True)\n",
        "\n",
        "# Check for missing values\n",
        "print(\"\\nMissing values per column:\")\n",
        "print(df.isnull().sum())\n",
        "\n",
        "# Fill numeric columns with median\n",
        "numeric_cols = df.select_dtypes(include='number').columns\n",
        "for col in numeric_cols:\n",
        "    median_value = df[col].median()\n",
        "    df[col].fillna(median_value, inplace=True)\n",
        "\n",
        "# Fill object/categorical columns with mode\n",
        "categorical_cols = df.select_dtypes(include='object').columns\n",
        "for col in categorical_cols:\n",
        "    mode_value = df[col].mode()[0]\n",
        "    df[col].fillna(mode_value, inplace=True)\n",
        "\n",
        "# Confirm all missing values are handled\n",
        "print(\"\\nMissing values after cleaning:\")\n",
        "print(df.isnull().sum())\n",
        "\n",
        "# Fill missing numeric values with median\n",
        "for col in df.select_dtypes(include='number').columns:\n",
        "    df[col].fillna(df[col].median(), inplace=True)\n",
        "\n",
        "# Fill missing categorical with mode\n",
        "for col in df.select_dtypes(include='object').columns:\n",
        "    df[col].fillna(df[col].mode()[0], inplace=True)"
      ],
      "metadata": {
        "colab": {
          "base_uri": "https://localhost:8080/"
        },
        "id": "2SEerxBUNRJQ",
        "outputId": "f54e717f-0e90-4a97-dd24-b2b5eb9b56e0"
      },
      "execution_count": null,
      "outputs": [
        {
          "output_type": "stream",
          "name": "stdout",
          "text": [
            "\n",
            "Missing values per column:\n",
            "Index                0\n",
            "Customer Id          0\n",
            "First Name           0\n",
            "Last Name            0\n",
            "Company              0\n",
            "City                 0\n",
            "Country              0\n",
            "Phone 1              0\n",
            "Phone 2              0\n",
            "Email                0\n",
            "Subscription Date    0\n",
            "Website              0\n",
            "dtype: int64\n"
          ]
        },
        {
          "output_type": "stream",
          "name": "stderr",
          "text": [
            "<ipython-input-41-4e287ea10ff2>:15: FutureWarning: A value is trying to be set on a copy of a DataFrame or Series through chained assignment using an inplace method.\n",
            "The behavior will change in pandas 3.0. This inplace method will never work because the intermediate object on which we are setting values always behaves as a copy.\n",
            "\n",
            "For example, when doing 'df[col].method(value, inplace=True)', try using 'df.method({col: value}, inplace=True)' or df[col] = df[col].method(value) instead, to perform the operation inplace on the original object.\n",
            "\n",
            "\n",
            "  df[col].fillna(median_value, inplace=True)\n",
            "<ipython-input-41-4e287ea10ff2>:21: FutureWarning: A value is trying to be set on a copy of a DataFrame or Series through chained assignment using an inplace method.\n",
            "The behavior will change in pandas 3.0. This inplace method will never work because the intermediate object on which we are setting values always behaves as a copy.\n",
            "\n",
            "For example, when doing 'df[col].method(value, inplace=True)', try using 'df.method({col: value}, inplace=True)' or df[col] = df[col].method(value) instead, to perform the operation inplace on the original object.\n",
            "\n",
            "\n",
            "  df[col].fillna(mode_value, inplace=True)\n"
          ]
        },
        {
          "output_type": "stream",
          "name": "stdout",
          "text": [
            "\n",
            "Missing values after cleaning:\n",
            "Index                0\n",
            "Customer Id          0\n",
            "First Name           0\n",
            "Last Name            0\n",
            "Company              0\n",
            "City                 0\n",
            "Country              0\n",
            "Phone 1              0\n",
            "Phone 2              0\n",
            "Email                0\n",
            "Subscription Date    0\n",
            "Website              0\n",
            "dtype: int64\n"
          ]
        },
        {
          "output_type": "stream",
          "name": "stderr",
          "text": [
            "<ipython-input-41-4e287ea10ff2>:29: FutureWarning: A value is trying to be set on a copy of a DataFrame or Series through chained assignment using an inplace method.\n",
            "The behavior will change in pandas 3.0. This inplace method will never work because the intermediate object on which we are setting values always behaves as a copy.\n",
            "\n",
            "For example, when doing 'df[col].method(value, inplace=True)', try using 'df.method({col: value}, inplace=True)' or df[col] = df[col].method(value) instead, to perform the operation inplace on the original object.\n",
            "\n",
            "\n",
            "  df[col].fillna(df[col].median(), inplace=True)\n",
            "<ipython-input-41-4e287ea10ff2>:33: FutureWarning: A value is trying to be set on a copy of a DataFrame or Series through chained assignment using an inplace method.\n",
            "The behavior will change in pandas 3.0. This inplace method will never work because the intermediate object on which we are setting values always behaves as a copy.\n",
            "\n",
            "For example, when doing 'df[col].method(value, inplace=True)', try using 'df.method({col: value}, inplace=True)' or df[col] = df[col].method(value) instead, to perform the operation inplace on the original object.\n",
            "\n",
            "\n",
            "  df[col].fillna(df[col].mode()[0], inplace=True)\n"
          ]
        }
      ]
    },
    {
      "cell_type": "markdown",
      "source": [
        "***DATA TRANSFORMATION***"
      ],
      "metadata": {
        "id": "wwOiWi3BRaRu"
      }
    },
    {
      "cell_type": "code",
      "source": [
        "if 'age' in df.columns:\n",
        "    bins = [0, 18, 30, 45, 60, 120]\n",
        "    labels = ['Teen', 'Young Adult', 'Adult', 'Middle Aged', 'Senior']\n",
        "    df['age_group'] = pd.cut(df['age'], bins=bins, labels=labels)\n",
        "\n"
      ],
      "metadata": {
        "id": "T6IAhjZjQ-kX"
      },
      "execution_count": null,
      "outputs": []
    },
    {
      "cell_type": "code",
      "source": [
        "if 'annual_income' in df.columns:\n",
        "    q1 = df['annual_income'].quantile(0.25)\n",
        "    q3 = df['annual_income'].quantile(0.75)\n",
        "    iqr = q3 - q1\n",
        "    upper_limit = q3 + 1.5 * iqr\n",
        "    df['annual_income_capped'] = df['annual_income'].apply(lambda x: min(x, upper_limit))"
      ],
      "metadata": {
        "id": "VnxSfEbkRFNG"
      },
      "execution_count": null,
      "outputs": []
    },
    {
      "cell_type": "code",
      "source": [
        "if 'gender' in df.columns:\n",
        "    df['gender_binary'] = df['gender'].map({'Male': 1, 'Female': 0})\n"
      ],
      "metadata": {
        "id": "kumqaaTxRMrG"
      },
      "execution_count": null,
      "outputs": []
    },
    {
      "cell_type": "code",
      "source": [
        "if {'first_name', 'last_name'}.issubset(df.columns):\n",
        "    df['full_name'] = df['first_name'] + ' ' + df['last_name']\n"
      ],
      "metadata": {
        "id": "cos9RtrERSce"
      },
      "execution_count": null,
      "outputs": []
    },
    {
      "cell_type": "code",
      "source": [
        "if {'spending_score', 'annual_income'}.issubset(df.columns):\n",
        "    df['score_per_income'] = df['spending_score'] / df['annual_income'].replace(0, 1)"
      ],
      "metadata": {
        "id": "KnWHkZ2wRYC2"
      },
      "execution_count": null,
      "outputs": []
    },
    {
      "cell_type": "markdown",
      "source": [
        "***Data Saving***"
      ],
      "metadata": {
        "id": "05i_DgUVR0PG"
      }
    },
    {
      "cell_type": "code",
      "source": [
        "# Save the cleaned data to Google Drive\n",
        "output_path = '/content/drive/My Drive/cleaned_data.csv'\n",
        "df.to_csv(output_path, index=False)\n",
        "print(\"Cleaned data saved to:\", output_path)"
      ],
      "metadata": {
        "colab": {
          "base_uri": "https://localhost:8080/"
        },
        "id": "xfMXuT70Nbpv",
        "outputId": "016a6974-047e-477a-d848-15e82985e115"
      },
      "execution_count": null,
      "outputs": [
        {
          "output_type": "stream",
          "name": "stdout",
          "text": [
            "Cleaned data saved to: /content/drive/My Drive/cleaned_data.csv\n"
          ]
        }
      ]
    }
  ]
}